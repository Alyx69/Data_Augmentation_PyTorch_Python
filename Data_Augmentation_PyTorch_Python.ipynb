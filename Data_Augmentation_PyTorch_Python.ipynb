{
 "cells": [
  {
   "cell_type": "code",
   "execution_count": 37,
   "metadata": {
    "id": "ExHWbshhQ3TD"
   },
   "outputs": [],
   "source": [
    "import torch\n",
    "import torch.nn as nn\n",
    "import torch.optim as optim\n",
    "from torchvision import datasets, transforms\n",
    "from torch.utils.data import DataLoader"
   ]
  },
  {
   "cell_type": "code",
   "execution_count": 38,
   "metadata": {
    "id": "BAkEMP5uQ3Qr"
   },
   "outputs": [],
   "source": [
    "class SimpleCNN(nn.Module):\n",
    "  def __init__(self):\n",
    "    super(SimpleCNN, self).__init__()\n",
    "    self.conv1 = nn.Conv2d(3, 32, kernel_size=3, padding=1)\n",
    "    self.conv2 = nn.Conv2d(32, 64, kernel_size=3, padding=1)\n",
    "    self.fc1 = nn.Linear(64 * 8 * 8, 128)\n",
    "    self.fc2 = nn.Linear(128, 10)\n",
    "    self.pool = nn.MaxPool2d(2, 2)\n",
    "    self.relu = nn.ReLU()\n",
    "    self.dropout = nn.Dropout(0.5)\n",
    "\n",
    "\n",
    "  def forward(self, x):\n",
    "    x = self.pool(self.relu(self.conv1(x)))\n",
    "    x = self.pool(self.relu(self.conv2(x)))\n",
    "    x = x.view(-1, 64 * 8 * 8)\n",
    "    x = self.relu(self.fc1(x))\n",
    "    x = self.dropout(x)\n",
    "    x = self.fc2(x)\n",
    "    return x"
   ]
  },
  {
   "cell_type": "code",
   "execution_count": 39,
   "metadata": {
    "id": "6GDimUs2Q3OL"
   },
   "outputs": [],
   "source": [
    "def train_model(model, train_loader, criterion, optimizer, device):\n",
    "  model.train()\n",
    "  running_loss = 0.0\n",
    "  for images, labels in train_loader:\n",
    "    images, labels = images.to(device), labels.to(device)\n",
    "    optimizer.zero_grad()\n",
    "    outputs = model(images)\n",
    "    loss = criterion(outputs, labels)\n",
    "    loss.backward()\n",
    "    optimizer.step()\n",
    "    running_loss += loss.item()\n",
    "  return running_loss / len(train_loader)"
   ]
  },
  {
   "cell_type": "code",
   "execution_count": 40,
   "metadata": {
    "id": "cGfUByehQ3Lm"
   },
   "outputs": [],
   "source": [
    "def evaluate_model(model, test_loader, device):\n",
    "  model.eval()\n",
    "  correct = 0\n",
    "  total = 0\n",
    "\n",
    "  with torch.no_grad():\n",
    "    for images, labels in test_loader:\n",
    "      images, labels = images.to(device), labels.to(device)\n",
    "      outputs = model(images)\n",
    "      _, predicted = torch.max(outputs, 1)\n",
    "      total += labels.size(0)\n",
    "      correct += (predicted == labels).sum().item()\n",
    "\n",
    "    return 100 * correct / total"
   ]
  },
  {
   "cell_type": "code",
   "execution_count": null,
   "metadata": {
    "id": "CPFe4aiRQ3JD"
   },
   "outputs": [],
   "source": [
    "def load_data(data_augmentation=False):\n",
    "  transforms_original = transforms.Compose([\n",
    "      transforms.ToTensor(),\n",
    "      transforms.Normalize((0.5, 0.5, 0.5), (0.5, 0.5, 0.5))\n",
    "  ])\n",
    "\n",
    "  transforms_augmented = transforms.Compose([\n",
    "      transforms.RandomHorizontalFlip(),\n",
    "      transforms.RandomRotation(10),\n",
    "      transforms.RandomCrop(32, padding=4),\n",
    "      transforms.ToTensor(),\n",
    "      transforms.Normalize((0.5, 0.5, 0.5), (0.5, 0.5, 0.5))\n",
    "  ])\n",
    "\n",
    "  if data_augmentation:\n",
    "    original_dataset = datasets.CIFAR10(root='./data', train=True, download=True, transform=transforms_original)\n",
    "    augmented_dataset = datasets.CIFAR10(root='./data', train=True, download=True, transform=transforms_augmented)\n",
    "    train_dataset = torch.utils.data.ConcatDataset([original_dataset, augmented_dataset])\n",
    "\n",
    "  else:\n",
    "    train_dataset = datasets.CIFAR10(root='./data', train=True, download=True, transform=transforms_original)\n",
    "\n",
    "  test_dataset = datasets.CIFAR10(root='./data', train=False, download=True, transform=transforms_original)\n",
    "\n",
    "  train_loader = DataLoader(train_dataset, batch_size=64, shuffle=True, num_workers=8)\n",
    "  test_loader = DataLoader(test_dataset, batch_size=64, shuffle=False, num_workers=8)\n",
    "\n",
    "  return train_loader, test_loader"
   ]
  },
  {
   "cell_type": "code",
   "execution_count": 45,
   "metadata": {
    "id": "hhRMTfO4w6XB"
   },
   "outputs": [],
   "source": [
    "device = torch.device('cuda' if torch.cuda.is_available() else 'cpu')\n",
    "epochs = 25"
   ]
  },
  {
   "cell_type": "code",
   "execution_count": 46,
   "metadata": {
    "colab": {
     "base_uri": "https://localhost:8080/"
    },
    "id": "LnOSp5FwQ3GX",
    "outputId": "130819cf-3a50-447c-d30d-a56093bc4f4b"
   },
   "outputs": [
    {
     "name": "stdout",
     "output_type": "stream",
     "text": [
      "Files already downloaded and verified\n",
      "Files already downloaded and verified\n",
      "Without Augmentation:\n",
      "Epoch: 0: Loss = 1.5134301941717982\n",
      "Epoch: 1: Loss = 1.1812388984596027\n",
      "Epoch: 2: Loss = 1.0412691630365905\n",
      "Epoch: 3: Loss = 0.9549658823653561\n",
      "Epoch: 4: Loss = 0.8901301381533103\n",
      "Epoch: 5: Loss = 0.8299801355356451\n",
      "Epoch: 6: Loss = 0.7826952287912978\n",
      "Epoch: 7: Loss = 0.7351405612952874\n",
      "Epoch: 8: Loss = 0.6978789530980313\n",
      "Epoch: 9: Loss = 0.6616982579078821\n",
      "Epoch: 10: Loss = 0.6284299698632086\n",
      "Epoch: 11: Loss = 0.6037821820782273\n",
      "Epoch: 12: Loss = 0.5722921944182852\n",
      "Epoch: 13: Loss = 0.5439859218609607\n",
      "Epoch: 14: Loss = 0.5253340109534885\n",
      "Epoch: 15: Loss = 0.5031218079235548\n",
      "Epoch: 16: Loss = 0.4748791927457466\n",
      "Epoch: 17: Loss = 0.46669548115385767\n",
      "Epoch: 18: Loss = 0.4442000718372862\n",
      "Epoch: 19: Loss = 0.43050795477217113\n",
      "Epoch: 20: Loss = 0.4155505223728507\n",
      "Epoch: 21: Loss = 0.4045984422992867\n",
      "Epoch: 22: Loss = 0.39181108147744326\n",
      "Epoch: 23: Loss = 0.38453829947792356\n",
      "Epoch: 24: Loss = 0.3710507104921219\n",
      "Accuracy: 72.79\n"
     ]
    }
   ],
   "source": [
    "train_loader, test_loader = load_data(data_augmentation=False)\n",
    "model = SimpleCNN().to(device)\n",
    "criterion = nn.CrossEntropyLoss()\n",
    "optimizer = optim.Adam(model.parameters(), lr=0.001)\n",
    "\n",
    "print(\"Without Augmentation:\")\n",
    "for epoch in range(epochs):\n",
    "  loss = train_model(model, train_loader, criterion, optimizer, device)\n",
    "  print(f\"Epoch: {epoch}: Loss = {loss}\")\n",
    "\n",
    "accuracy = evaluate_model(model, test_loader, device)\n",
    "print(f\"Accuracy: {accuracy}\")"
   ]
  },
  {
   "cell_type": "code",
   "execution_count": 49,
   "metadata": {
    "colab": {
     "base_uri": "https://localhost:8080/"
    },
    "id": "5ndRMUgxw25B",
    "outputId": "18f304cd-6235-465d-91bc-efd5bd7768e6"
   },
   "outputs": [
    {
     "name": "stdout",
     "output_type": "stream",
     "text": [
      "Files already downloaded and verified\n",
      "Files already downloaded and verified\n",
      "Files already downloaded and verified\n",
      "With Augmentation:\n"
     ]
    },
    {
     "name": "stderr",
     "output_type": "stream",
     "text": [
      "/usr/local/lib/python3.10/dist-packages/torch/utils/data/dataloader.py:617: UserWarning: This DataLoader will create 8 worker processes in total. Our suggested max number of worker in current system is 2, which is smaller than what this DataLoader is going to create. Please be aware that excessive worker creation might get DataLoader running slow or even freeze, lower the worker number to avoid potential slowness/freeze if necessary.\n",
      "  warnings.warn(\n"
     ]
    },
    {
     "name": "stdout",
     "output_type": "stream",
     "text": [
      "Epoch: 0: Loss = 1.5169430177942425\n",
      "Epoch: 1: Loss = 1.21556671719786\n",
      "Epoch: 2: Loss = 1.1099427809184435\n",
      "Epoch: 3: Loss = 1.0445241218031178\n",
      "Epoch: 4: Loss = 1.001149382945138\n",
      "Epoch: 5: Loss = 0.9669230734775711\n",
      "Epoch: 6: Loss = 0.9382103514152693\n",
      "Epoch: 7: Loss = 0.9176652699575467\n",
      "Epoch: 8: Loss = 0.8942841886330017\n",
      "Epoch: 9: Loss = 0.8797109567501266\n",
      "Epoch: 10: Loss = 0.8659038106295366\n",
      "Epoch: 11: Loss = 0.8447634706456006\n",
      "Epoch: 12: Loss = 0.8354767283719088\n",
      "Epoch: 13: Loss = 0.823828529812019\n",
      "Epoch: 14: Loss = 0.8120935631538154\n",
      "Epoch: 15: Loss = 0.8035225557426726\n",
      "Epoch: 16: Loss = 0.796426887837878\n",
      "Epoch: 17: Loss = 0.788956889340455\n",
      "Epoch: 18: Loss = 0.7828546862188853\n",
      "Epoch: 19: Loss = 0.768519638424414\n",
      "Epoch: 20: Loss = 0.7625921787318708\n",
      "Epoch: 21: Loss = 0.7572009007250431\n",
      "Epoch: 22: Loss = 0.7481122898773284\n",
      "Epoch: 23: Loss = 0.7415865260061361\n",
      "Epoch: 24: Loss = 0.740812817255961\n",
      "Accuracy: 76.55\n"
     ]
    }
   ],
   "source": [
    "train_loader, test_loader = load_data(data_augmentation=True)\n",
    "model = SimpleCNN().to(device)\n",
    "criterion = nn.CrossEntropyLoss()\n",
    "optimizer = optim.Adam(model.parameters(), lr=0.001)\n",
    "\n",
    "print(\"With Augmentation:\")\n",
    "for epoch in range(epochs):\n",
    "  loss = train_model(model, train_loader, criterion, optimizer, device)\n",
    "  print(f\"Epoch: {epoch}: Loss = {loss}\")\n",
    "\n",
    "accuracy = evaluate_model(model, test_loader, device)\n",
    "print(f\"Accuracy: {accuracy}\")"
   ]
  }
 ],
 "metadata": {
  "accelerator": "GPU",
  "colab": {
   "gpuType": "T4",
   "provenance": []
  },
  "kernelspec": {
   "display_name": "Python 3",
   "name": "python3"
  },
  "language_info": {
   "name": "python"
  }
 },
 "nbformat": 4,
 "nbformat_minor": 0
}
